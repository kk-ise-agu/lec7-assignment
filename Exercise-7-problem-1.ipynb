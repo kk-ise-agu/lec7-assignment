{
 "cells": [
  {
   "cell_type": "markdown",
   "metadata": {
    "deletable": false,
    "editable": false,
    "nbgrader": {
     "cell_type": "markdown",
     "checksum": "75a056e5d301ce518b674564ea7987b5",
     "grade": false,
     "grade_id": "cell-33948b9e14791c81",
     "locked": true,
     "schema_version": 3,
     "solution": false
    }
   },
   "source": [
    "## Problem 1: Simple scatter plot using random (3 points)\n",
    "\n",
    "The aim of this task is to create a simple scatter plot using random input values and random colors!\n",
    "Finally, you will save the plot as `.png` file that should look something like this: \n",
    " \n",
    " ![Example figure](img/problem1_example.png)\n",
    " \n",
    "Remember to also commit the image file into your GitHub repo!\n",
    "\n",
    "**NOTE**: You colors may look different from the image above depending on the version of Matplotlib you are using!\n",
    " \n",
    "### Hint: generating random numbers\n",
    "\n",
    "We can generate random numbers using using a method `random.rand()` from the [NumPy package](https://numpy.org/). This example generates 10 random values:\n",
    "\n",
    "```\n",
    "import numpy as np\n",
    "random_numbers = np.random.rand(10)\n",
    "\n",
    "```\n",
    "\n",
    "this produces an array object `random_numbers` that could look, for example, like this (each time you run the code you get a different set of random numbers!):\n",
    "\n",
    "``` \n",
    "array([0.30888937, 0.02648327, 0.62740074, 0.75795089, 0.41083545,\n",
    "       0.91937694, 0.90100588, 0.33312242, 0.39950947, 0.8181788 ]\n",
    "``` \n",
    "\n",
    "\n",
    "You can insert this array into a column in a pandas data frame, assuming that the array length and data frame length match:\n",
    "\n",
    "```\n",
    "...\n",
    "\n",
    "data[\"new_column\"] = random_numbers\n",
    "```\n",
    "\n",
    "\n",
    "### Part 1\n",
    "\n",
    "Create an new data frame called `data` and add 1000 random numbers (`float`) into a new column `x` and another 1000 random numbers (`float`) into a new column `y`."
   ]
  },
  {
   "cell_type": "code",
   "execution_count": null,
   "metadata": {
    "deletable": false,
    "nbgrader": {
     "cell_type": "code",
     "checksum": "5af35c872191152addf48ff9ed86f900",
     "grade": false,
     "grade_id": "problem_1_ag_p1_random_points",
     "locked": false,
     "schema_version": 3,
     "solution": true
    }
   },
   "outputs": [],
   "source": [
    "import numpy as np\n",
    "import pandas as pd\n",
    "\n",
    "# REPLACE THE ERROR BELOW WITH YOUR OWN CODE\n",
    "raise NotImplementedError()"
   ]
  },
  {
   "cell_type": "code",
   "execution_count": null,
   "metadata": {
    "deletable": false,
    "editable": false,
    "nbgrader": {
     "cell_type": "code",
     "checksum": "45152e3cb3772db34190ff3c4fe2f3c2",
     "grade": true,
     "grade_id": "problem_1_ag_p1_andom_points_test1",
     "locked": true,
     "points": 0.5,
     "schema_version": 3,
     "solution": false
    }
   },
   "outputs": [],
   "source": [
    "# Check your random values\n",
    "print(data.head())\n",
    "\n",
    "# Check that you have the correct number of rows\n",
    "assert len(data) == 1000, \"There should be 1000 rows of data.\""
   ]
  },
  {
   "cell_type": "markdown",
   "metadata": {
    "deletable": false,
    "editable": false,
    "nbgrader": {
     "cell_type": "markdown",
     "checksum": "fb57282cc69d91f4ab623727dd8285f5",
     "grade": false,
     "grade_id": "cell-7fb6a23ba6c8ea59",
     "locked": true,
     "schema_version": 3,
     "solution": false
    }
   },
   "source": [
    "### Part 2\n",
    "\n",
    "Create a variable `colors` in which you should store 1000 random colors so that we get a little bit of sweeter looking plot.\n",
    "\n",
    "The variable `colors` should be an array full of random numbers."
   ]
  },
  {
   "cell_type": "code",
   "execution_count": null,
   "metadata": {
    "deletable": false,
    "nbgrader": {
     "cell_type": "code",
     "checksum": "6502fe8958d74e4bb03381de076bb12f",
     "grade": false,
     "grade_id": "problem_1_ag_p2_colors",
     "locked": false,
     "schema_version": 3,
     "solution": true
    }
   },
   "outputs": [],
   "source": [
    "# REPLACE THE ERROR BELOW WITH YOUR OWN CODE\n",
    "raise NotImplementedError()"
   ]
  },
  {
   "cell_type": "code",
   "execution_count": null,
   "metadata": {
    "deletable": false,
    "editable": false,
    "nbgrader": {
     "cell_type": "code",
     "checksum": "22d6e655d2c4a37517e469e7790301ee",
     "grade": true,
     "grade_id": "problem_1_ag_p2_colors_test1",
     "locked": true,
     "points": 0.5,
     "schema_version": 3,
     "solution": false
    }
   },
   "outputs": [],
   "source": [
    "# This test print should print out 10 first numbers in the variable colors\n",
    "print(colors[0:10])\n",
    "\n",
    "# Check that the length matches\n",
    "assert len(colors) == 1000, \"There should be 1000 random numbers for colors\""
   ]
  },
  {
   "cell_type": "markdown",
   "metadata": {
    "deletable": false,
    "editable": false,
    "nbgrader": {
     "cell_type": "markdown",
     "checksum": "6c23312d2b67fcb4cd8f33376ffc56fd",
     "grade": false,
     "grade_id": "cell-4f766d991d40522f",
     "locked": true,
     "schema_version": 3,
     "solution": false
    }
   },
   "source": [
    "### Part 3 \n",
    "\n",
    "#### Part 3.1\n",
    "\n",
    "Create a scatter plot of points with random colors\n",
    "\n",
    "Plot a scatter plot using `DataFrame.plot()`:\n",
    "- set the type of the plot using parameter `kind=scatter` (OR use `DataFrame.plot.scatter()`)\n",
    "- modify the size of a point using parameter `s` (the example plot uses `s=50`)\n",
    "- set the random colors for the points using parameter `c`\n",
    "- set the color scheme using parameter `colormap`. \n",
    "    - The example image uses colormap `'rainbow'`\n",
    "    - you can also choose another color map from here: https://matplotlib.org/3.1.0/tutorials/colors/colormaps.html\n",
    "    - you can add a black outline for the points using the parameter `edgecolor`. The example uses `edgecolor=black`.\n",
    "\n",
    "#### Part 3.2\n",
    "\n",
    "Add s title, x-label and y-label to your plot as shown in the example figure:\n",
    "\n",
    "- create variables `title`, `xlabel` and `ylabel` and store the title and axis labels texts in them\n",
    "- use `matplotlib.pyplot` methods to add the title and labels to the figure\n",
    "\n",
    "**Feel free to change the colors and markers in the plot :)**\n",
    "\n",
    "#### Part 3.3\n",
    "\n",
    "Create a variable `outputfp` with the output filename `my_first_plot.png` and save your plot as a PNG file into the disk (note: you have to save the file in the same code cell where you do the plotting). "
   ]
  },
  {
   "cell_type": "code",
   "execution_count": null,
   "metadata": {
    "deletable": false,
    "nbgrader": {
     "cell_type": "code",
     "checksum": "7e6cdea2e1277d781a32ddcafeb19778",
     "grade": true,
     "grade_id": "problem_1_mg_p3_scatter_plot",
     "locked": false,
     "points": 1.5,
     "schema_version": 3,
     "solution": true
    }
   },
   "outputs": [],
   "source": [
    "%matplotlib inline\n",
    "\n",
    "# Plot a scatter plot\n",
    "# REPLACE THE ERROR BELOW WITH YOUR OWN CODE\n",
    "raise NotImplementedError()\n",
    "\n",
    "# Add labels and title\n",
    "# REPLACE THE ERROR BELOW WITH YOUR OWN CODE\n",
    "raise NotImplementedError()\n",
    "\n",
    "# Save the plot as a png file:\n",
    "outputfp = \"my_first_plot.png\"\n",
    "\n",
    "# REPLACE THE ERROR BELOW WITH YOUR OWN CODE\n",
    "raise NotImplementedError()\n",
    "\n",
    "# This test print statement should print the output filename of your figure\n",
    "print(\"Saved my first plot as:\", outputfp)"
   ]
  },
  {
   "cell_type": "code",
   "execution_count": null,
   "metadata": {
    "deletable": false,
    "editable": false,
    "nbgrader": {
     "cell_type": "code",
     "checksum": "78e4003cde84d7187cf020afd06ac815",
     "grade": true,
     "grade_id": "problem_1_ag_p3_outputfile_test",
     "locked": true,
     "points": 0.5,
     "schema_version": 3,
     "solution": false,
     "task": false
    }
   },
   "outputs": [],
   "source": [
    "#Check that the file exists (also go and open the file to check that everything is ok!)\n",
    "import os\n",
    "\n",
    "assert os.path.exists(outputfp), \"Can't find the output image.\""
   ]
  },
  {
   "cell_type": "markdown",
   "metadata": {
    "deletable": false,
    "editable": false,
    "nbgrader": {
     "cell_type": "markdown",
     "checksum": "de005aee1fcddca425be86f679ebfa4a",
     "grade": false,
     "grade_id": "cell-ba40728abeff91e4",
     "locked": true,
     "schema_version": 3,
     "solution": false
    }
   },
   "source": [
    "Remember to commit your changes (including the image file) to your GitHub repo!\n",
    "\n",
    "### Done!\n",
    "\n",
    "Now you can move to [problem 2](Exercise-7-problem-2.ipynb)."
   ]
  }
 ],
 "metadata": {
  "kernelspec": {
   "display_name": "Python 3",
   "language": "python",
   "name": "python3"
  },
  "language_info": {
   "codemirror_mode": {
    "name": "ipython",
    "version": 3
   },
   "file_extension": ".py",
   "mimetype": "text/x-python",
   "name": "python",
   "nbconvert_exporter": "python",
   "pygments_lexer": "ipython3",
   "version": "3.7.4"
  }
 },
 "nbformat": 4,
 "nbformat_minor": 4
}
